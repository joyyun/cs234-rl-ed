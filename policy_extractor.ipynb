{
 "cells": [
  {
   "cell_type": "code",
   "execution_count": 8,
   "metadata": {},
   "outputs": [],
   "source": [
    "import numpy as np\n",
    "import pandas as pd\n",
    "import matplotlib.pyplot as plt"
   ]
  },
  {
   "cell_type": "code",
   "execution_count": 9,
   "metadata": {},
   "outputs": [],
   "source": [
    "# given a set of covariates, run linear regression model for each treatment arm\n",
    "# take argmax of predicted outcome values to determine treatment assignment\n",
    "\n",
    "covariates = [\"attendance_1\", \"rating_1\", \"talktime_tutor_pct_1\",\n",
    "    \"spoken_token_tutor_pct_1\", \"chat_token_tutor_pct_1\", \"length_utterance_tutor_1\",\n",
    "    \"length_utterance_student_1\", \"length_utterance_tutor_chat_1\", \"length_utterance_student_chat_1\",\n",
    "    \"ratio_students_engaged_1\", \"normalized_num_student_names_used_1\", \"normalized_num_turns_1\",\n",
    "    \"normalized_num_high_uptakes_1\", \"normalized_num_eliciting_1\", \"normalized_num_questions_students_1\",\n",
    "    \"normalized_num_questions_tutor_1\", \"normalized_student_reasoning_1\", \"min_sat_score_series\",\n",
    "    \"max_sat_score_series\", \"grade_for_session_1\"]\n",
    "\n",
    "outcome_vars = ['grade_change', 'uptake_change', 'eliciting_change', 'talktime_change']"
   ]
  },
  {
   "cell_type": "code",
   "execution_count": 12,
   "metadata": {},
   "outputs": [],
   "source": [
    "arms = ['control', 'tutor', 'tutor_student_social', 'tutor_student_personal']\n",
    "outcomes = ['uptake', 'eliciting', 'grade', 'talktime']\n",
    "\n",
    "ridge_weights = {\n",
    "    'uptake': {\n",
    "        'control': [],\n",
    "        'tutor': [0.0057869174182523415, -0.04939015234748881, 0.086674115795949, -0.23038033604920116, \n",
    "              0.08305298875740905, 7.194821794237663e-05, 0.00042790333804937494, -0.0016273907239995056, 0.0011625396618618778, \n",
    "              0.007608148533284885, -0.005157032664444589, -0.006158000152285133, -0.5378618319169195, 0.09970945325939601, \n",
    "              0.07182299942295509, 0.18544199470363004, -0.34138781582583033, 0.0022019252435830357, 0.011199830742724497, \n",
    "              0.0006215122480511331, 219397820797.08447, -219397820797.0844, -0.03790867036994146],\n",
    "        'tutor_student_social': [],\n",
    "        'tutor_student_personal': []\n",
    "    },\n",
    "    'eliciting': {\n",
    "        'control': [],\n",
    "        'tutor': [0.0057869174182523415, -0.04939015234748881, 0.086674115795949, -0.23038033604920116, \n",
    "              0.08305298875740905, 7.194821794237663e-05, 0.00042790333804937494, -0.0016273907239995056, 0.0011625396618618778, \n",
    "              0.007608148533284885, -0.005157032664444589, -0.006158000152285133, -0.5378618319169195, 0.09970945325939601, \n",
    "              0.07182299942295509, 0.18544199470363004, -0.34138781582583033, 0.0022019252435830357, 0.011199830742724497, \n",
    "              0.0006215122480511331, 219397820797.08447, -219397820797.0844, -0.03790867036994146],\n",
    "        'tutor_student_social': [],\n",
    "        'tutor_student_personal': []\n",
    "    },\n",
    "    'grade': {\n",
    "        'control': [],\n",
    "        'tutor': [0.0057869174182523415, -0.04939015234748881, 0.086674115795949, -0.23038033604920116, \n",
    "              0.08305298875740905, 7.194821794237663e-05, 0.00042790333804937494, -0.0016273907239995056, 0.0011625396618618778, \n",
    "              0.007608148533284885, -0.005157032664444589, -0.006158000152285133, -0.5378618319169195, 0.09970945325939601, \n",
    "              0.07182299942295509, 0.18544199470363004, -0.34138781582583033, 0.0022019252435830357, 0.011199830742724497, \n",
    "              0.0006215122480511331, 219397820797.08447, -219397820797.0844, -0.03790867036994146],\n",
    "        'tutor_student_social': [],\n",
    "        'tutor_student_personal': []\n",
    "    },\n",
    "    'talktime': {\n",
    "        'control': [],\n",
    "        'tutor': [0.0057869174182523415, -0.04939015234748881, 0.086674115795949, -0.23038033604920116, \n",
    "              0.08305298875740905, 7.194821794237663e-05, 0.00042790333804937494, -0.0016273907239995056, 0.0011625396618618778, \n",
    "              0.007608148533284885, -0.005157032664444589, -0.006158000152285133, -0.5378618319169195, 0.09970945325939601, \n",
    "              0.07182299942295509, 0.18544199470363004, -0.34138781582583033, 0.0022019252435830357, 0.011199830742724497, \n",
    "              0.0006215122480511331, 219397820797.08447, -219397820797.0844, -0.03790867036994146],\n",
    "        'tutor_student_social': [],\n",
    "        'tutor_student_personal': []\n",
    "    }, # TODO: add an aggreagated outcome measure??\n",
    "}\n",
    "\n",
    "lasso_weights = {\n",
    "    'uptake': {\n",
    "        'control': [],\n",
    "        'tutor': [0.0057869174182523415, -0.04939015234748881, 0.086674115795949, -0.23038033604920116, \n",
    "              0.08305298875740905, 7.194821794237663e-05, 0.00042790333804937494, -0.0016273907239995056, 0.0011625396618618778, \n",
    "              0.007608148533284885, -0.005157032664444589, -0.006158000152285133, -0.5378618319169195, 0.09970945325939601, \n",
    "              0.07182299942295509, 0.18544199470363004, -0.34138781582583033, 0.0022019252435830357, 0.011199830742724497, \n",
    "              0.0006215122480511331, 219397820797.08447, -219397820797.0844, -0.03790867036994146],\n",
    "        'tutor_student_social': [],\n",
    "        'tutor_student_personal': []\n",
    "    },\n",
    "    'eliciting': {\n",
    "        'control': [],\n",
    "        'tutor': [0.0057869174182523415, -0.04939015234748881, 0.086674115795949, -0.23038033604920116, \n",
    "              0.08305298875740905, 7.194821794237663e-05, 0.00042790333804937494, -0.0016273907239995056, 0.0011625396618618778, \n",
    "              0.007608148533284885, -0.005157032664444589, -0.006158000152285133, -0.5378618319169195, 0.09970945325939601, \n",
    "              0.07182299942295509, 0.18544199470363004, -0.34138781582583033, 0.0022019252435830357, 0.011199830742724497, \n",
    "              0.0006215122480511331, 219397820797.08447, -219397820797.0844, -0.03790867036994146],\n",
    "        'tutor_student_social': [],\n",
    "        'tutor_student_personal': []\n",
    "    },\n",
    "    'grade': {\n",
    "        'control': [],\n",
    "        'tutor': [0.0057869174182523415, -0.04939015234748881, 0.086674115795949, -0.23038033604920116, \n",
    "              0.08305298875740905, 7.194821794237663e-05, 0.00042790333804937494, -0.0016273907239995056, 0.0011625396618618778, \n",
    "              0.007608148533284885, -0.005157032664444589, -0.006158000152285133, -0.5378618319169195, 0.09970945325939601, \n",
    "              0.07182299942295509, 0.18544199470363004, -0.34138781582583033, 0.0022019252435830357, 0.011199830742724497, \n",
    "              0.0006215122480511331, 219397820797.08447, -219397820797.0844, -0.03790867036994146],\n",
    "        'tutor_student_social': [],\n",
    "        'tutor_student_personal': []\n",
    "    },\n",
    "    'talktime': {\n",
    "        'control': [],\n",
    "        'tutor': [0.0057869174182523415, -0.04939015234748881, 0.086674115795949, -0.23038033604920116, \n",
    "              0.08305298875740905, 7.194821794237663e-05, 0.00042790333804937494, -0.0016273907239995056, 0.0011625396618618778, \n",
    "              0.007608148533284885, -0.005157032664444589, -0.006158000152285133, -0.5378618319169195, 0.09970945325939601, \n",
    "              0.07182299942295509, 0.18544199470363004, -0.34138781582583033, 0.0022019252435830357, 0.011199830742724497, \n",
    "              0.0006215122480511331, 219397820797.08447, -219397820797.0844, -0.03790867036994146],\n",
    "        'tutor_student_social': [],\n",
    "        'tutor_student_personal': []\n",
    "    }, # TODO: add an aggreagated outcome measure??\n",
    "}\n",
    "    \n"
   ]
  },
  {
   "cell_type": "code",
   "execution_count": 13,
   "metadata": {},
   "outputs": [],
   "source": [
    "summary_df = pd.read_csv('summary_data.csv')\n",
    "samples_df = summary_df[covariates]\n",
    "outcome_df = summary_df[outcome_vars]"
   ]
  },
  {
   "cell_type": "code",
   "execution_count": 15,
   "metadata": {},
   "outputs": [
    {
     "name": "stdout",
     "output_type": "stream",
     "text": [
      "(629, 20)\n"
     ]
    }
   ],
   "source": [
    "# loop through each row in samples_df and get predicted policy for each outcome variable\n",
    "\n",
    "# 1. CREATE SAMPLES MATRIX (num samples x num covariates)\n",
    "samples = []\n",
    "for index, row in samples_df.iterrows():\n",
    "    ndarray = row.to_numpy()  # or row.values\n",
    "    samples.append(ndarray)\n",
    "\n",
    "samples_matrix = np.array(samples)\n",
    "\n",
    "print(samples_matrix.shape)"
   ]
  },
  {
   "cell_type": "code",
   "execution_count": 17,
   "metadata": {},
   "outputs": [
    {
     "name": "stdout",
     "output_type": "stream",
     "text": [
      "1\n"
     ]
    }
   ],
   "source": [
    "# 2. CREATE WEIGHTS MATRIX FOR EACH OUTCOME VAR (num covariates x num arms) 20 x 4\n",
    "\n",
    "weights = lasso_weights # <--- CHOOSE WHICH ONE YOU'RE DOING!!!\n",
    "uptake_weights = ndarray()\n",
    "eliciting_weights = ndarray()\n",
    "grade_weights = ndarray()\n",
    "talktime_weights = ndarray()\n",
    "\n",
    "# uptake\n",
    "curr_dict = weights['uptake']\n",
    "uptake_weights = np.array([curr_dict['control'], curr_dict['tutor'], curr_dict['tutor_student_social'], curr_dict['tutor_student_personal']])\n",
    "\n",
    "# eliciting\n",
    "curr_dict = weights['eliticing']\n",
    "eliciting_weights = np.array([curr_dict['control'], curr_dict['tutor'], curr_dict['tutor_student_social'], curr_dict['tutor_student_personal']])\n",
    "\n",
    "# grade\n",
    "curr_dict = weights['grade']\n",
    "grade_weights = np.array([curr_dict['control'], curr_dict['tutor'], curr_dict['tutor_student_social'], curr_dict['tutor_student_personal']])\n",
    "\n",
    "# talktime\n",
    "curr_dict = weights['talktime']\n",
    "talktime_weights = np.array([curr_dict['control'], curr_dict['tutor'], curr_dict['tutor_student_social'], curr_dict['tutor_student_personal']])\n",
    "                        "
   ]
  },
  {
   "cell_type": "code",
   "execution_count": null,
   "metadata": {},
   "outputs": [],
   "source": [
    "# 3. GET SCORES VAR (num samples x num arms) \n",
    "# multiply sample matrix by weights matrix for each outcome var\n",
    "\n",
    "uptake_scores = np.dot(samples_matrix, uptake_weights)\n",
    "eliciting_scores = np.dot(samples_matrix, eliciting_weights)\n",
    "grade_scores = np.dot(samples_matrix, grade_weights)\n",
    "talktime_scores = np.dot(samples_matrix, talktime_weights)"
   ]
  },
  {
   "cell_type": "code",
   "execution_count": null,
   "metadata": {},
   "outputs": [],
   "source": [
    "# 4. GET PREDICTED POLICY (num samples x 1)\n",
    "# take argmax of scores matrix\n",
    "\n",
    "uptake_policy = np.argmax(uptake_scores, axis=1)\n",
    "eliciting_policy = np.argmax(eliciting_scores, axis=1)\n",
    "grade_policy = np.argmax(grade_scores, axis=1)\n",
    "talktime_policy = np.argmax(talktime_scores, axis=1)"
   ]
  },
  {
   "cell_type": "code",
   "execution_count": null,
   "metadata": {},
   "outputs": [],
   "source": [
    "# 5. ADD PREDICTED POLICY AS COLUMNS IN SUMMARY_DF\n",
    "\n",
    "summary_df['uptake_policy'] = uptake_policy\n",
    "summary_df['eliciting_policy'] = eliciting_policy\n",
    "summary_df['grade_policy'] = grade_policy\n",
    "summary_df['talktime_policy'] = talktime_policy"
   ]
  },
  {
   "cell_type": "code",
   "execution_count": null,
   "metadata": {},
   "outputs": [],
   "source": [
    "# 6. EXPORT SUMMARY_DF TO CSV (just so we have it)\n",
    "\n",
    "summary_df.to_csv('summary_data_with_policy.csv')"
   ]
  },
  {
   "cell_type": "markdown",
   "metadata": {},
   "source": [
    "## EVALUATION"
   ]
  },
  {
   "cell_type": "markdown",
   "metadata": {},
   "source": []
  }
 ],
 "metadata": {
  "kernelspec": {
   "display_name": "sh_research",
   "language": "python",
   "name": "python3"
  },
  "language_info": {
   "codemirror_mode": {
    "name": "ipython",
    "version": 3
   },
   "file_extension": ".py",
   "mimetype": "text/x-python",
   "name": "python",
   "nbconvert_exporter": "python",
   "pygments_lexer": "ipython3",
   "version": "3.9.1"
  }
 },
 "nbformat": 4,
 "nbformat_minor": 2
}
