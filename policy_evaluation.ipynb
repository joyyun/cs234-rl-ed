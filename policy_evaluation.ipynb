{
 "cells": [
  {
   "cell_type": "code",
   "execution_count": 1,
   "metadata": {},
   "outputs": [],
   "source": [
    "import numpy as np\n",
    "import pandas as pd\n",
    "import matplotlib.pyplot as plt"
   ]
  },
  {
   "cell_type": "code",
   "execution_count": null,
   "metadata": {},
   "outputs": [],
   "source": [
    "covariates = [\"attendance_1\", \"rating_1\", \"talktime_tutor_pct_1\",\n",
    "    \"spoken_token_tutor_pct_1\", \"chat_token_tutor_pct_1\", \"length_utterance_tutor_1\",\n",
    "    \"length_utterance_student_1\", \"length_utterance_tutor_chat_1\", \"length_utterance_student_chat_1\",\n",
    "    \"ratio_students_engaged_1\", \"normalized_num_student_names_used_1\", \"normalized_num_turns_1\",\n",
    "    \"normalized_num_high_uptakes_1\", \"normalized_num_eliciting_1\", \"normalized_num_questions_students_1\",\n",
    "    \"normalized_num_questions_tutor_1\", \"normalized_student_reasoning_1\", \"min_sat_score_series\",\n",
    "    \"max_sat_score_series\", \"grade_for_session_1\"]\n",
    "\n",
    "outcome_vars = ['grade_change', 'uptake_change', 'eliciting_change', 'talktime_change']\n",
    "\n",
    "arms = ['control', 'tutor', 'tutor_student_personal', 'tutor_student_social']\n",
    "\n",
    "outcomes = ['uptake', 'eliciting', 'grade', 'talktime']"
   ]
  },
  {
   "cell_type": "code",
   "execution_count": null,
   "metadata": {},
   "outputs": [],
   "source": [
    "df = pd.read_csv('summary_data_with_policy.csv')\n",
    "# samples_df = summary_df[covariates]\n",
    "# outcome_df = summary_df[outcome_vars]"
   ]
  },
  {
   "cell_type": "code",
   "execution_count": 2,
   "metadata": {},
   "outputs": [],
   "source": [
    "def get_avg_scores(df, policy_col, outcome_var_col):\n",
    "    matching_df = df[df['arm_name'] == df[policy_col]]\n",
    "    aligned_mean = matching_df[outcome_var_col].mean()\n",
    "\n",
    "    not_matching_df = df[df['arm_name'] != df[policy_col]]\n",
    "    not_aligned_mean = not_matching_df[outcome_var_col].mean()\n",
    "\n",
    "    return aligned_mean, not_aligned_mean"
   ]
  },
  {
   "cell_type": "code",
   "execution_count": null,
   "metadata": {},
   "outputs": [],
   "source": [
    "# get policy performance for all outcomes\n",
    "# TODO: need to run for both ridge and lasso, decide on how we want to save scores\n",
    "\n",
    "uptake_al_score, uptake_not_al_score = get_avg_scores(df, 'uptake_policy', 'uptake_change')\n",
    "print(\"Uptake aligned score: \", uptake_al_score)\n",
    "print(\"Uptake not aligned score: \", uptake_not_al_score)\n",
    "\n",
    "eliciting_al_score, eliciting_not_al_score = get_avg_scores(df, 'eliciting_policy', 'eliciting_change')\n",
    "print(\"Eliciting aligned score: \", eliciting_al_score)\n",
    "print(\"Eliciting not aligned score: \", eliciting_not_al_score)\n",
    "\n",
    "grade_al_score, grade_not_al_score = get_avg_scores(df, 'grade_policy', 'grade_change')\n",
    "print(\"Grade aligned score: \", grade_al_score)\n",
    "print(\"Grade not aligned score: \", grade_not_al_score)\n",
    "\n",
    "talktime_al_score, talktime_not_al_score = get_avg_scores(df, 'talktime_policy', 'talktime_change')\n",
    "print(\"Talktime aligned score: \", talktime_al_score)\n",
    "print(\"Talktime not aligned score: \", talktime_not_al_score)"
   ]
  }
 ],
 "metadata": {
  "kernelspec": {
   "display_name": "Python 3",
   "language": "python",
   "name": "python3"
  },
  "language_info": {
   "codemirror_mode": {
    "name": "ipython",
    "version": 3
   },
   "file_extension": ".py",
   "mimetype": "text/x-python",
   "name": "python",
   "nbconvert_exporter": "python",
   "pygments_lexer": "ipython3",
   "version": "3.9.1"
  }
 },
 "nbformat": 4,
 "nbformat_minor": 2
}
